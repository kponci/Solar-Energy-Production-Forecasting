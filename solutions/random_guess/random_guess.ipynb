{
 "cells": [
  {
   "cell_type": "markdown",
   "source": [
    "This is a base jupyter notebook for other solutions. It goes through the dataset A, and it finds the highest and the lowest energy production. It generates the solution with random floats inbetween the highest and the lowest production."
   ],
   "metadata": {
    "collapsed": false
   }
  },
  {
   "cell_type": "code",
   "execution_count": 76,
   "outputs": [
    {
     "name": "stdout",
     "output_type": "stream",
     "text": [
      "The autoreload extension is already loaded. To reload it, use:\n",
      "  %reload_ext autoreload\n"
     ]
    }
   ],
   "source": [
    "%load_ext autoreload"
   ],
   "metadata": {
    "collapsed": false,
    "ExecuteTime": {
     "end_time": "2023-09-29T14:11:53.826308270Z",
     "start_time": "2023-09-29T14:11:53.729437294Z"
    }
   }
  },
  {
   "cell_type": "code",
   "execution_count": null,
   "outputs": [],
   "source": [],
   "metadata": {
    "collapsed": false
   }
  },
  {
   "cell_type": "markdown",
   "source": [
    "Load libraries"
   ],
   "metadata": {
    "collapsed": false
   }
  },
  {
   "cell_type": "code",
   "execution_count": 77,
   "metadata": {
    "collapsed": true,
    "ExecuteTime": {
     "end_time": "2023-09-29T14:11:53.828966592Z",
     "start_time": "2023-09-29T14:11:53.793204456Z"
    }
   },
   "outputs": [],
   "source": [
    "%autoreload\n",
    "\n",
    "# load libraries\n",
    "import pandas as pd\n",
    "import numpy as np"
   ]
  },
  {
   "cell_type": "code",
   "execution_count": 78,
   "outputs": [],
   "source": [
    "# read datasets, I use just dataset A for simplicity\n",
    "y_train = pd.read_parquet(\"../../dataset/A/train_targets.parquet\")\n",
    "X_train_observed = pd.read_parquet(\"../../dataset/A/X_train_observed.parquet\")\n",
    "X_train_estimated = pd.read_parquet(\"../../dataset/A/X_train_estimated.parquet\")\n",
    "X_test = pd.read_parquet(\"../../dataset/A/X_test_estimated.parquet\")\n",
    "# check slide 27 of project presentation to find out what each parquet means"
   ],
   "metadata": {
    "collapsed": false,
    "ExecuteTime": {
     "end_time": "2023-09-29T14:11:53.849507476Z",
     "start_time": "2023-09-29T14:11:53.793593165Z"
    }
   }
  },
  {
   "cell_type": "code",
   "execution_count": 79,
   "outputs": [
    {
     "data": {
      "text/plain": "                     time  pv_measurement\n34075 2023-04-30 14:00:00         2170.74\n34076 2023-04-30 15:00:00          686.84\n34077 2023-04-30 16:00:00          907.72\n34078 2023-04-30 17:00:00          692.56\n34079 2023-04-30 18:00:00          194.70\n34080 2023-04-30 19:00:00            9.02\n34081 2023-04-30 20:00:00            0.00\n34082 2023-04-30 21:00:00            0.00\n34083 2023-04-30 22:00:00            0.00\n34084 2023-04-30 23:00:00            0.00",
      "text/html": "<div>\n<style scoped>\n    .dataframe tbody tr th:only-of-type {\n        vertical-align: middle;\n    }\n\n    .dataframe tbody tr th {\n        vertical-align: top;\n    }\n\n    .dataframe thead th {\n        text-align: right;\n    }\n</style>\n<table border=\"1\" class=\"dataframe\">\n  <thead>\n    <tr style=\"text-align: right;\">\n      <th></th>\n      <th>time</th>\n      <th>pv_measurement</th>\n    </tr>\n  </thead>\n  <tbody>\n    <tr>\n      <th>34075</th>\n      <td>2023-04-30 14:00:00</td>\n      <td>2170.74</td>\n    </tr>\n    <tr>\n      <th>34076</th>\n      <td>2023-04-30 15:00:00</td>\n      <td>686.84</td>\n    </tr>\n    <tr>\n      <th>34077</th>\n      <td>2023-04-30 16:00:00</td>\n      <td>907.72</td>\n    </tr>\n    <tr>\n      <th>34078</th>\n      <td>2023-04-30 17:00:00</td>\n      <td>692.56</td>\n    </tr>\n    <tr>\n      <th>34079</th>\n      <td>2023-04-30 18:00:00</td>\n      <td>194.70</td>\n    </tr>\n    <tr>\n      <th>34080</th>\n      <td>2023-04-30 19:00:00</td>\n      <td>9.02</td>\n    </tr>\n    <tr>\n      <th>34081</th>\n      <td>2023-04-30 20:00:00</td>\n      <td>0.00</td>\n    </tr>\n    <tr>\n      <th>34082</th>\n      <td>2023-04-30 21:00:00</td>\n      <td>0.00</td>\n    </tr>\n    <tr>\n      <th>34083</th>\n      <td>2023-04-30 22:00:00</td>\n      <td>0.00</td>\n    </tr>\n    <tr>\n      <th>34084</th>\n      <td>2023-04-30 23:00:00</td>\n      <td>0.00</td>\n    </tr>\n  </tbody>\n</table>\n</div>"
     },
     "execution_count": 79,
     "metadata": {},
     "output_type": "execute_result"
    }
   ],
   "source": [
    "y_train.tail(10)"
   ],
   "metadata": {
    "collapsed": false,
    "ExecuteTime": {
     "end_time": "2023-09-29T14:11:53.913023039Z",
     "start_time": "2023-09-29T14:11:53.844549551Z"
    }
   }
  },
  {
   "cell_type": "code",
   "execution_count": 80,
   "outputs": [
    {
     "name": "stdout",
     "output_type": "stream",
     "text": [
      "0.0 5733.42\n"
     ]
    }
   ],
   "source": [
    "# find the maximum and minimum electricity production\n",
    "min_production = y_train[\"pv_measurement\"].min()        # min_production = 0 of course\n",
    "max_production = y_train[\"pv_measurement\"].max()\n",
    "print(min_production, max_production)"
   ],
   "metadata": {
    "collapsed": false,
    "ExecuteTime": {
     "end_time": "2023-09-29T14:11:53.913506299Z",
     "start_time": "2023-09-29T14:11:53.885443255Z"
    }
   }
  },
  {
   "cell_type": "code",
   "execution_count": 81,
   "outputs": [],
   "source": [
    "# create output dataframe\n",
    "num_rows = 3 * 30 * 24      # num_locations * num_days_to_forecast * num_hours_in_day\n",
    "data = {'prediction': np.random.rand(num_rows) * (max_production - min_production) + min_production}\n",
    "df = pd.DataFrame(data)\n",
    "df.to_csv(\"random_guess.csv\", index_label=\"id\")\n"
   ],
   "metadata": {
    "collapsed": false,
    "ExecuteTime": {
     "end_time": "2023-09-29T14:11:53.967300350Z",
     "start_time": "2023-09-29T14:11:53.885856757Z"
    }
   }
  }
 ],
 "metadata": {
  "kernelspec": {
   "display_name": "Python 3",
   "language": "python",
   "name": "python3"
  },
  "language_info": {
   "codemirror_mode": {
    "name": "ipython",
    "version": 2
   },
   "file_extension": ".py",
   "mimetype": "text/x-python",
   "name": "python",
   "nbconvert_exporter": "python",
   "pygments_lexer": "ipython2",
   "version": "2.7.6"
  }
 },
 "nbformat": 4,
 "nbformat_minor": 0
}
